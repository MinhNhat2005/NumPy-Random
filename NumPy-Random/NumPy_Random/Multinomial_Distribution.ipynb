{
 "cells": [
  {
   "cell_type": "markdown",
   "id": "1618ec10-f0e1-40ef-b5ec-e2f2f4400701",
   "metadata": {},
   "source": [
    "<span style=\"font-size:30px;\">Phân phối đa thức</span>\n"
   ]
  },
  {
   "cell_type": "code",
   "execution_count": 3,
   "id": "88c8d752-fa22-4766-9f9c-6e1f93aae602",
   "metadata": {},
   "outputs": [],
   "source": [
    "# Phân phối đa thức\n",
    "# Phân phối đa thức là dạng tổng quát của phân phối nhị thức.\n",
    "\n",
    "# Nó mô tả kết quả của các kịch bản đa thức không giống như kịch bản nhị thức trong đó các kịch bản chỉ có thể là một trong hai. Ví dụ: Nhóm máu của một quần thể, kết quả tung xúc xắc.\n",
    "\n",
    "# Nó có ba tham số:\n",
    "\n",
    "# n- số lần chạy thử nghiệm.\n",
    "\n",
    "# pvals- danh sách các xác suất của kết quả (ví dụ [1/6, 1/6, 1/6, 1/6, 1/6, 1/6] cho việc tung xúc xắc).\n",
    "\n",
    "# size- Hình dạng của mảng trả về.\n",
    "\n"
   ]
  },
  {
   "cell_type": "code",
   "execution_count": 1,
   "id": "2b1c96a6-2207-4ef6-a088-146aa5eec2d9",
   "metadata": {},
   "outputs": [],
   "source": [
    "# n- số lần chạy thử nghiệm.\n",
    "\n",
    "# pvals- danh sách các xác suất của kết quả (ví dụ [1/6, 1/6, 1/6, 1/6, 1/6, 1/6] cho việc tung xúc xắc).\n",
    "\n",
    "# size- Hình dạng của mảng trả về."
   ]
  },
  {
   "cell_type": "code",
   "execution_count": 2,
   "id": "49bb9018-fd95-49cd-9862-a26898b9abdd",
   "metadata": {},
   "outputs": [
    {
     "name": "stdout",
     "output_type": "stream",
     "text": [
      "[2 1 1 0 0 2]\n"
     ]
    }
   ],
   "source": [
    "# Lấy mẫu để tung xúc xắc\n",
    "from numpy import random\n",
    "x = random.multinomial(n = 6, pvals=[1/6, 1/6,1/6,1/6,1/6,1/6])\n",
    "print(x)"
   ]
  },
  {
   "cell_type": "code",
   "execution_count": null,
   "id": "05030805-2cfc-4cc3-bcac-13e768b3cfeb",
   "metadata": {},
   "outputs": [],
   "source": []
  }
 ],
 "metadata": {
  "kernelspec": {
   "display_name": "Python 3 (ipykernel)",
   "language": "python",
   "name": "python3"
  },
  "language_info": {
   "codemirror_mode": {
    "name": "ipython",
    "version": 3
   },
   "file_extension": ".py",
   "mimetype": "text/x-python",
   "name": "python",
   "nbconvert_exporter": "python",
   "pygments_lexer": "ipython3",
   "version": "3.11.7"
  }
 },
 "nbformat": 4,
 "nbformat_minor": 5
}
