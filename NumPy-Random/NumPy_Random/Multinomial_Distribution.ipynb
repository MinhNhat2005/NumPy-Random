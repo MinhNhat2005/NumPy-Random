{
 "cells": [
  {
   "cell_type": "markdown",
   "id": "1618ec10-f0e1-40ef-b5ec-e2f2f4400701",
   "metadata": {},
   "source": [
    "<span style=\"font-size:30px;\">Phân phối đa thức</span>\n"
   ]
  },
  {
   "cell_type": "code",
   "execution_count": 1,
   "id": "2b1c96a6-2207-4ef6-a088-146aa5eec2d9",
   "metadata": {},
   "outputs": [],
   "source": [
    "# n- số lần chạy thử nghiệm.\n",
    "\n",
    "# pvals- danh sách các xác suất của kết quả (ví dụ [1/6, 1/6, 1/6, 1/6, 1/6, 1/6] cho việc tung xúc xắc).\n",
    "\n",
    "# size- Hình dạng của mảng trả về."
   ]
  },
  {
   "cell_type": "code",
   "execution_count": 2,
   "id": "49bb9018-fd95-49cd-9862-a26898b9abdd",
   "metadata": {},
   "outputs": [
    {
     "name": "stdout",
     "output_type": "stream",
     "text": [
      "[2 1 1 0 0 2]\n"
     ]
    }
   ],
   "source": [
    "# Lấy mẫu để tung xúc xắc\n",
    "from numpy import random\n",
    "x = random.multinomial(n = 6, pvals=[1/6, 1/6,1/6,1/6,1/6,1/6])\n",
    "print(x)"
   ]
  },
  {
   "cell_type": "code",
   "execution_count": null,
   "id": "05030805-2cfc-4cc3-bcac-13e768b3cfeb",
   "metadata": {},
   "outputs": [],
   "source": []
  }
 ],
 "metadata": {
  "kernelspec": {
   "display_name": "Python 3 (ipykernel)",
   "language": "python",
   "name": "python3"
  },
  "language_info": {
   "codemirror_mode": {
    "name": "ipython",
    "version": 3
   },
   "file_extension": ".py",
   "mimetype": "text/x-python",
   "name": "python",
   "nbconvert_exporter": "python",
   "pygments_lexer": "ipython3",
   "version": "3.11.7"
  }
 },
 "nbformat": 4,
 "nbformat_minor": 5
}
