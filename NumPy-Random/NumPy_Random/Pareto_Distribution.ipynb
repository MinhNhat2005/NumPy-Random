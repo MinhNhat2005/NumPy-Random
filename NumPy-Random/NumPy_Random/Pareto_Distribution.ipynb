{
 "cells": [
  {
   "cell_type": "markdown",
   "id": "d73de038-7245-451c-97d8-62ebaf133e35",
   "metadata": {},
   "source": [
    "<span style=\"font-size:30px;\"></span>\n"
   ]
  },
  {
   "cell_type": "markdown",
   "id": "0ecd178a-215b-44f9-9626-1293caa4df31",
   "metadata": {},
   "source": [
    "<span style=\"font-size:30px;\">Phân phối Pareto\n",
    "</span>\n"
   ]
  },
  {
   "cell_type": "code",
   "execution_count": 1,
   "id": "e529e5c9-86e7-48fd-92f9-bd58f42bddf3",
   "metadata": {},
   "outputs": [],
   "source": [
    "# Phân phối Pareto\n",
    "# Phân phối theo luật Pareto tức là phân phối 80-20 (20% yếu tố gây ra 80% kết quả).\n",
    "\n",
    "# Nó có hai tham số:\n",
    "\n",
    "# a- tham số hình dạng.\n",
    "\n",
    "# size- Hình dạng của mảng trả về."
   ]
  },
  {
   "cell_type": "code",
   "execution_count": 2,
   "id": "5aa1495f-0406-463f-98ba-b4d46548f65d",
   "metadata": {},
   "outputs": [
    {
     "name": "stdout",
     "output_type": "stream",
     "text": [
      "[[6.70218903e-01 3.57749434e+00 1.78550518e-01]\n",
      " [1.87604051e-01 4.05868422e-01 4.00738499e-01]\n",
      " [1.14902636e+01 2.35638949e-03 2.19222785e+00]]\n"
     ]
    }
   ],
   "source": [
    "# Vẽ một mấu phân phối Pareto có hình dạng 2 với kích thước 3x3\n",
    "from numpy import random\n",
    "x = random.pareto(a=2, size=(3,3))\n",
    "print(x)"
   ]
  },
  {
   "cell_type": "code",
   "execution_count": 5,
   "id": "bd7734da-1a03-4f7e-893e-5212f2adeedd",
   "metadata": {},
   "outputs": [
    {
     "name": "stderr",
     "output_type": "stream",
     "text": [
      "/home/minhnhat2005/anaconda3/lib/python3.11/site-packages/seaborn/_oldcore.py:1119: FutureWarning: use_inf_as_na option is deprecated and will be removed in a future version. Convert inf values to NaN before operating instead.\n",
      "  with pd.option_context('mode.use_inf_as_na', True):\n"
     ]
    },
    {
     "data": {
      "image/png": "[encoded data removed]",
      "text/plain": [
       "<Figure size 500x500 with 1 Axes>"
      ]
     },
     "metadata": {},
     "output_type": "display_data"
    }
   ],
   "source": [
    "# Hình dung phân phối Pareto\n",
    "from numpy import random \n",
    "import matplotlib.pyplot as plt\n",
    "import seaborn as sns\n",
    "\n",
    "data = random.pareto(a=2,size=1000)\n",
    "sns.displot(data)\n",
    "plt.show()"
   ]
  },
  {
   "cell_type": "code",
   "execution_count": null,
   "id": "4bdc7614-c960-4355-9b3d-7647420fd29a",
   "metadata": {},
   "outputs": [],
   "source": []
  },
  {
   "cell_type": "code",
   "execution_count": null,
   "id": "bcc55b26-4d42-4ea1-83bc-34c68d10f785",
   "metadata": {},
   "outputs": [],
   "source": []
  }
 ],
 "metadata": {
  "kernelspec": {
   "display_name": "Python 3 (ipykernel)",
   "language": "python",
   "name": "python3"
  },
  "language_info": {
   "codemirror_mode": {
    "name": "ipython",
    "version": 3
   },
   "file_extension": ".py",
   "mimetype": "text/x-python",
   "name": "python",
   "nbconvert_exporter": "python",
   "pygments_lexer": "ipython3",
   "version": "3.11.7"
  }
 },
 "nbformat": 4,
 "nbformat_minor": 5
}
