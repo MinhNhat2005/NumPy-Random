{
 "cells": [
  {
   "cell_type": "markdown",
   "id": "41cd4c79-8c23-4a6a-8dcc-0fe8f2fd4b57",
   "metadata": {},
   "source": [
    "<span style=\"font-size:30px;\">Hoán vị ngẫũ nhiên</span>\n"
   ]
  },
  {
   "cell_type": "markdown",
   "id": "1e689c6a-55eb-41f4-bc61-b40da7d3181f",
   "metadata": {},
   "source": [
    "<span style=\"font-size:20px;\">Mảng xáo trộn</span>\n"
   ]
  },
  {
   "cell_type": "code",
   "execution_count": 8,
   "id": "78c2816e-18fe-4012-9f1d-5cfffc519dc4",
   "metadata": {},
   "outputs": [
    {
     "name": "stdout",
     "output_type": "stream",
     "text": [
      "[3 5 1 2 4]\n",
      "None\n"
     ]
    }
   ],
   "source": [
    "# Trộn ngẫu nhiên các phần tử của mảng \n",
    "import numpy as np\n",
    "arr = np.array([1,2,3,4,5])\n",
    "x =np.random.shuffle(arr)  # Phương pháp này thực hiện thay đổi mảng ban đầu\n",
    "print(arr)\n",
    "print(x)"
   ]
  },
  {
   "cell_type": "markdown",
   "id": "b4496894-6e33-47e7-8776-a953bb6f60d9",
   "metadata": {},
   "source": [
    "<span style=\"font-size:20px;\">Hoán vị mảng</span>\n"
   ]
  },
  {
   "cell_type": "code",
   "execution_count": 9,
   "id": "3295f204-67b6-4020-a089-34bb66ea4f11",
   "metadata": {},
   "outputs": [
    {
     "name": "stdout",
     "output_type": "stream",
     "text": [
      "[1 2 3 4 5]\n",
      "[5 4 2 1 3]\n"
     ]
    }
   ],
   "source": [
    "# Tạo 1 hoán vị ngẫu nhiên các phần tử của mảng sau\n",
    "import numpy as np\n",
    "arr = np.array([1,2,3,4,5])\n",
    "x = np.random.permutation(arr)  # Phương pháp này trả về mảng mới và giữ nguyên mảng ban đầu\n",
    "print(arr)\n",
    "print(x)"
   ]
  },
  {
   "cell_type": "code",
   "execution_count": null,
   "id": "7feb889f-af9b-42b5-8553-8b9bc049cf8c",
   "metadata": {},
   "outputs": [],
   "source": []
  },
  {
   "cell_type": "code",
   "execution_count": null,
   "id": "8e8a3aae-d268-4626-a6c6-213bc9fdd789",
   "metadata": {},
   "outputs": [],
   "source": []
  }
 ],
 "metadata": {
  "kernelspec": {
   "display_name": "Python 3 (ipykernel)",
   "language": "python",
   "name": "python3"
  },
  "language_info": {
   "codemirror_mode": {
    "name": "ipython",
    "version": 3
   },
   "file_extension": ".py",
   "mimetype": "text/x-python",
   "name": "python",
   "nbconvert_exporter": "python",
   "pygments_lexer": "ipython3",
   "version": "3.11.7"
  }
 },
 "nbformat": 4,
 "nbformat_minor": 5
}
