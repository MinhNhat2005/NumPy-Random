{
 "cells": [
  {
   "cell_type": "code",
   "execution_count": null,
   "id": "bed16053-abd3-487d-90e5-7798a5abe229",
   "metadata": {},
   "outputs": [],
   "source": [
    "# Tạo 1 số nguyên ngẫu nhiên từ 0 đến 100\n",
    "from numpy import random\n",
    "x = random.randint(100)\n",
    "print(x)"
   ]
  },
  {
   "cell_type": "code",
   "execution_count": 5,
   "id": "71d1936b-6796-4635-814a-5784d11c6a1e",
   "metadata": {},
   "outputs": [
    {
     "name": "stdout",
     "output_type": "stream",
     "text": [
      "0.2050964488406991\n"
     ]
    }
   ],
   "source": [
    "# Tạo 1 số thực ngẫu nhiên từ 0 đến 1\n",
    "from numpy import random\n",
    "x = random.rand()\n",
    "print(x)"
   ]
  },
  {
   "cell_type": "markdown",
   "id": "052835eb-9fe6-496b-ad9f-3b639e9a459b",
   "metadata": {},
   "source": [
    "<span style=\"font-size:30px;\">Tạo mảng ngẫu nhiên</span>\n"
   ]
  },
  {
   "cell_type": "code",
   "execution_count": 8,
   "id": "66defa69-17ed-468f-bd17-2ec07f312f48",
   "metadata": {},
   "outputs": [
    {
     "name": "stdout",
     "output_type": "stream",
     "text": [
      "[10 29 35 97  2]\n"
     ]
    }
   ],
   "source": [
    "# Tạo mảng 1 chiều chứa 5 số nguyên ngẫu nhiên từ 0 đến 100\n",
    "import numpy as np\n",
    "x = np.random.randint(100, size=5)\n",
    "print(x)"
   ]
  },
  {
   "cell_type": "code",
   "execution_count": 9,
   "id": "bbfae723-b0d4-4d8b-996d-b55926b07b2c",
   "metadata": {},
   "outputs": [
    {
     "name": "stdout",
     "output_type": "stream",
     "text": [
      "[[19 58 15 48 24]\n",
      " [80 22 92 72 17]\n",
      " [85 32  3 44 54]]\n"
     ]
    }
   ],
   "source": [
    "# Tạo mảng 2 chiều có 3 hàng, mỗi hàng có 5 phần tửngẫu nhiên từ 1 đến 100\n",
    "import numpy as np\n",
    "x = np.random.randint(100, size=(3, 5))\n",
    "print(x)"
   ]
  },
  {
   "cell_type": "code",
   "execution_count": 11,
   "id": "f14b6fa9-3b63-4519-bbae-586c3c91ece8",
   "metadata": {},
   "outputs": [
    {
     "name": "stdout",
     "output_type": "stream",
     "text": [
      "[0.52022559 0.16886219 0.86582138 0.61096048 0.01011281]\n"
     ]
    }
   ],
   "source": [
    "# Tạo 1 mảng 1 chiều chứa 5 số thực ngẫu nhiên\n",
    "import numpy as np\n",
    "x = np.random.rand(5)\n",
    "print(x)"
   ]
  },
  {
   "cell_type": "code",
   "execution_count": 12,
   "id": "69fd3740-5499-4bf4-aca6-5c80a1ff21fd",
   "metadata": {},
   "outputs": [
    {
     "name": "stdout",
     "output_type": "stream",
     "text": [
      "[[0.97545918 0.76329153 0.03815592 0.55571501 0.96454723]\n",
      " [0.37359271 0.56105956 0.57932432 0.16677015 0.19598143]\n",
      " [0.4898     0.86471074 0.94933463 0.74537781 0.68667549]]\n"
     ]
    }
   ],
   "source": [
    "# Tạo mảng 2 chiều có 3 hàng , mỗi hàng chứa 5 số thực ngẫu nhiên\n",
    "import numpy as np\n",
    "x = np.random.rand(3,5)\n",
    "print(x)"
   ]
  },
  {
   "cell_type": "markdown",
   "id": "936d34d6-04ef-4231-8aac-95f26d530bb0",
   "metadata": {},
   "source": [
    "<span style=\"font-size:30px;\">Tạo 1 số ngẫu nhiên từ mảng</span>\n"
   ]
  },
  {
   "cell_type": "code",
   "execution_count": 20,
   "id": "644c07eb-89d2-44d0-a0a3-393cf80e7d16",
   "metadata": {},
   "outputs": [
    {
     "name": "stdout",
     "output_type": "stream",
     "text": [
      "5\n"
     ]
    }
   ],
   "source": [
    "# Trả về 1 trong các giá trị mảng\n",
    "import numpy as np\n",
    "x = random.choice([1,3,5,67,7,4,3,5])\n",
    "print(x)"
   ]
  },
  {
   "cell_type": "code",
   "execution_count": 21,
   "id": "8904ddb0-0fc7-470c-af98-3cf75cc4ad1c",
   "metadata": {},
   "outputs": [
    {
     "name": "stdout",
     "output_type": "stream",
     "text": [
      "[[ 3  8 12  8  8]\n",
      " [34  1 34  3 34]\n",
      " [67 34 67  3 12]]\n"
     ]
    }
   ],
   "source": [
    "# Tạo 1 mảng 2 chiều bao gồm các giá trị trong tham số mảng \n",
    "import numpy as np\n",
    "x = np.random.choice([1,3,6,8,12,34,67,78], size=(3,5))\n",
    "print(x)"
   ]
  },
  {
   "cell_type": "code",
   "execution_count": null,
   "id": "839d3741-3aa5-42f8-8fb4-798f377947d8",
   "metadata": {},
   "outputs": [],
   "source": []
  }
 ],
 "metadata": {
  "kernelspec": {
   "display_name": "Python 3 (ipykernel)",
   "language": "python",
   "name": "python3"
  },
  "language_info": {
   "codemirror_mode": {
    "name": "ipython",
    "version": 3
   },
   "file_extension": ".py",
   "mimetype": "text/x-python",
   "name": "python",
   "nbconvert_exporter": "python",
   "pygments_lexer": "ipython3",
   "version": "3.11.7"
  }
 },
 "nbformat": 4,
 "nbformat_minor": 5
}
