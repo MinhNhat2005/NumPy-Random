{
 "cells": [
  {
   "cell_type": "markdown",
   "id": "ddc72237-1fa1-442b-b952-2935cac88371",
   "metadata": {},
   "source": [
    "<span style=\"font-size:30px;\">Phân phối dữ liệu ngẫu nhiên</span>\n"
   ]
  },
  {
   "cell_type": "code",
   "execution_count": 2,
   "id": "68bbca99-7cb5-460d-8fb9-12b7c7083b12",
   "metadata": {},
   "outputs": [
    {
     "name": "stdout",
     "output_type": "stream",
     "text": [
      "[7 7 7 7 7 7 3 3 5 5 7 7 5 7 7 7 3 7 5 7 7 7 7 5 7 7 7 5 5 7 5 5 7 7 5 5 7\n",
      " 7 7 7 7 7 3 7 3 3 5 5 3 7 7 7 3 7 7 7 7 7 5 7 7 7 5 7 5 7 7 7 3 7 5 5 7 7\n",
      " 7 7 5 7 7 7 7 7 5 7 7 7 7 7 7 7 7 5 5 5 7 7 7 7 7 5]\n"
     ]
    }
   ],
   "source": [
    "# Tạo mảng 1 chiều chứa 100 giá trị, trong đó mỗi giá trị phải là 3,5,7 hoặc 9\n",
    "# Xác suất để giá trị là 3 được đặt là 0,1\n",
    "# Xác suất để giá trị là 5 được đặt là 0,3\n",
    "# Xác suất để giá trị là 7 được đặt là 0,6\n",
    "# Xác suất để giá trị là 9 được đặt là 0\n",
    "\n",
    "from numpy import random\n",
    "x = random.choice([3,5,7,9], p = [0.1, 0.3 ,0.6, 0.0], size=(100))\n",
    "print(x)"
   ]
  },
  {
   "cell_type": "code",
   "execution_count": 4,
   "id": "5d7168bd-d4ad-4803-855d-8b10e3a4ac51",
   "metadata": {},
   "outputs": [
    {
     "name": "stdout",
     "output_type": "stream",
     "text": [
      "[[3 1 3 2 3]\n",
      " [1 3 2 2 2]\n",
      " [3 3 4 4 2]]\n"
     ]
    }
   ],
   "source": [
    "# Trả về mảng 2 chiều có 3 hàng, mỗi hàng có 5 giá trị \n",
    "import numpy as np\n",
    "x = np.random.choice([1,2,3,4], p=[0.2, 0.3, 0.4, 0.1], size = (3,5))\n",
    "print(x)"
   ]
  },
  {
   "cell_type": "code",
   "execution_count": 7,
   "id": "d0d617fb-572d-4acb-9b29-f278af2034e0",
   "metadata": {},
   "outputs": [
    {
     "name": "stdout",
     "output_type": "stream",
     "text": [
      "[[[9 4 4 7 4]\n",
      "  [7 7 7 9 4]\n",
      "  [7 4 9 4 7]]\n",
      "\n",
      " [[7 1 9 4 7]\n",
      "  [4 1 9 1 7]\n",
      "  [7 7 4 7 9]]]\n"
     ]
    }
   ],
   "source": [
    "# trả về mảng 3 chiều có 2 cột, 3 hàng, 5 phần tử\n",
    "import numpy as np\n",
    "x = np.random.choice([1,4,7,9], p =[0.1, 0.3, 0.4, 0.2], size =(2,3,5))\n",
    "print(x)"
   ]
  },
  {
   "cell_type": "code",
   "execution_count": null,
   "id": "e8a1df55-ef62-47fd-9187-88bc80d813cd",
   "metadata": {},
   "outputs": [],
   "source": []
  }
 ],
 "metadata": {
  "kernelspec": {
   "display_name": "Python 3 (ipykernel)",
   "language": "python",
   "name": "python3"
  },
  "language_info": {
   "codemirror_mode": {
    "name": "ipython",
    "version": 3
   },
   "file_extension": ".py",
   "mimetype": "text/x-python",
   "name": "python",
   "nbconvert_exporter": "python",
   "pygments_lexer": "ipython3",
   "version": "3.11.7"
  }
 },
 "nbformat": 4,
 "nbformat_minor": 5
}
