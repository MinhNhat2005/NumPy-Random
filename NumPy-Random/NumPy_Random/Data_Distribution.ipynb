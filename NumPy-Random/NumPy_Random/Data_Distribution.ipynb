{
 "cells": [
  {
   "cell_type": "code",
   "execution_count": 3,
   "id": "68bbca99-7cb5-460d-8fb9-12b7c7083b12",
   "metadata": {},
   "outputs": [
    {
     "name": "stdout",
     "output_type": "stream",
     "text": [
      "[5 5 7 7 7 5 7 3 7 5 5 5 5 7 3 7 5 5 7 7 5 7 7 7 7 7 5 5 7 7 7 7 7 7 5 5 7\n",
      " 5 7 7 5 7 3 7 7 7 3 7 7 3 7 5 7 7 5 7 5 3 5 5 5 7 5 7 7 5 5 7 5 3 5 7 5 7\n",
      " 3 7 7 7 5 5 7 5 3 5 7 7 7 7 7 5 7 5 3 7 3 5 5 7 7 7]\n"
     ]
    }
   ],
   "source": [
    "from numpy import random\n",
    "x = random.choice([3,5,7,9], p = [0.1, 0.3 ,0.6, 0.0], size=(100))\n",
    "print(x)"
   ]
  },
  {
   "cell_type": "code",
   "execution_count": null,
   "id": "5d7168bd-d4ad-4803-855d-8b10e3a4ac51",
   "metadata": {},
   "outputs": [],
   "source": []
  }
 ],
 "metadata": {
  "kernelspec": {
   "display_name": "Python 3 (ipykernel)",
   "language": "python",
   "name": "python3"
  },
  "language_info": {
   "codemirror_mode": {
    "name": "ipython",
    "version": 3
   },
   "file_extension": ".py",
   "mimetype": "text/x-python",
   "name": "python",
   "nbconvert_exporter": "python",
   "pygments_lexer": "ipython3",
   "version": "3.11.7"
  }
 },
 "nbformat": 4,
 "nbformat_minor": 5
}
