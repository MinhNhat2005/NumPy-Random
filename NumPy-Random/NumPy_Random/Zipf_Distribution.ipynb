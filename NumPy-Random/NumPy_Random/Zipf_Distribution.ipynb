{
 "cells": [
  {
   "cell_type": "markdown",
   "id": "3adfd8c6-7355-4cd5-bf8e-faa81cbb4d65",
   "metadata": {},
   "source": [
    "<span style=\"font-size:30px;\">Phân phối Zip</span>\n"
   ]
  },
  {
   "cell_type": "code",
   "execution_count": 1,
   "id": "1dedf06d-3ffc-43b9-a01b-a7b8136d2c7b",
   "metadata": {},
   "outputs": [],
   "source": [
    "# Phân phối Zipf được sử dụng để lấy mẫu dữ liệu dựa trên định luật Zipf.\n",
    "\n",
    "# Định luật Zipf: Trong một tập hợp, từ phổ biến thứ n có tần suất xuất hiện gấp 1/n lần từ phổ biến nhất. Ví dụ, từ phổ biến thứ 5 trong tiếng Anh xuất hiện gần gấp 1/5 lần từ phổ biến nhất.\n",
    "\n",
    "# Nó có hai tham số:\n",
    "\n",
    "# a- tham số phân phối.\n",
    "\n",
    "# size- Hình dạng của mảng trả về."
   ]
  },
  {
   "cell_type": "code",
   "execution_count": 6,
   "id": "a4992885-7db9-409b-ad9e-b97271137915",
   "metadata": {},
   "outputs": [
    {
     "name": "stdout",
     "output_type": "stream",
     "text": [
      "[[1 1 1]\n",
      " [3 1 1]]\n"
     ]
    }
   ],
   "source": [
    "# Lấy mẫu cho phân phối zipf với tham số phân phối 2 có kích thước 2x3\n",
    "from numpy import random\n",
    "x = random.zipf(a= 2, size=(2,3))\n",
    "print(x)"
   ]
  },
  {
   "cell_type": "code",
   "execution_count": 8,
   "id": "17237da7-0f43-48af-9581-b8f2fbfac1ea",
   "metadata": {},
   "outputs": [
    {
     "name": "stderr",
     "output_type": "stream",
     "text": [
      "/home/minhnhat2005/anaconda3/lib/python3.11/site-packages/seaborn/_oldcore.py:1119: FutureWarning: use_inf_as_na option is deprecated and will be removed in a future version. Convert inf values to NaN before operating instead.\n",
      "  with pd.option_context('mode.use_inf_as_na', True):\n"
     ]
    },
    {
     "data": {
      "image/png": "[encoded data removed]",
      "text/plain": [
       "<Figure size 500x500 with 1 Axes>"
      ]
     },
     "metadata": {},
     "output_type": "display_data"
    }
   ],
   "source": [
    "# Hình ảnh hóa phân phối Zip\n",
    "from numpy import random\n",
    "import matplotlib.pyplot as plt\n",
    "import seaborn as sns\n",
    "\n",
    "x= random.zipf(a =2, size= 1000)\n",
    "sns.displot(x[x<10])\n",
    "plt.show()"
   ]
  },
  {
   "cell_type": "code",
   "execution_count": null,
   "id": "b6e395a4-7c63-44bd-ac43-58190014f141",
   "metadata": {},
   "outputs": [],
   "source": []
  }
 ],
 "metadata": {
  "kernelspec": {
   "display_name": "Python 3 (ipykernel)",
   "language": "python",
   "name": "python3"
  },
  "language_info": {
   "codemirror_mode": {
    "name": "ipython",
    "version": 3
   },
   "file_extension": ".py",
   "mimetype": "text/x-python",
   "name": "python",
   "nbconvert_exporter": "python",
   "pygments_lexer": "ipython3",
   "version": "3.11.7"
  }
 },
 "nbformat": 4,
 "nbformat_minor": 5
}
